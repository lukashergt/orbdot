{
 "cells": [
  {
   "cell_type": "code",
   "execution_count": null,
   "outputs": [],
   "source": [
    "from ..orbdot.star_planet import StarPlanet\n",
    "\n",
    "planetx = StarPlanet('settings_files/Planet-X_settings.json')\n",
    "\n",
    "constant_fit = planetx.run_constant_period(['t0', 'P'])"
   ],
   "metadata": {
    "collapsed": false,
    "pycharm": {
     "name": "#%%\n"
    }
   }
  },
  {
   "cell_type": "markdown",
   "source": [
    "#### 1.1 Output Files\n",
    "For each model fit in our example the following files are saved:\n",
    "- `*_summary.txt` : A text summary of the best-fit values and sampling statistics.\n",
    "- `*_results.json` : The full set of nested sampling outputs.\n",
    "- `*_random_samples.json`: A set of 300 samples for plotting.\n",
    "- `*_corner.png` : A corner plot),\n",
    "- `*_traces.png` : A trace plot).\n",
    "\n",
    "The summary is a good way to get a quick overview of the results of the model fit.\n",
    "\n",
    "<details><summary>Summary of constant-period model fit:</summary>\n",
    "\n",
    "```\n",
    "Stats\n",
    "-----\n",
    "Sampler: nestle\n",
    "Free parameters: ['t0' 'P']\n",
    "log(Z) = -189.51807472187025 ± 0.11083889973032876\n",
    "Run time (s): 6.025493383407593\n",
    "Num live points: 1000\n",
    "Evidence tolerance: 0.001\n",
    "Eff. samples per second: 665\n",
    "\n",
    "Results\n",
    "-------\n",
    "t0 = 2456282.4927388676 ± 7.117870892771849e-05\n",
    "P = 0.940008751947598 ± 3.7892879371495315e-08\n",
    "```\n",
    "</details>\n",
    "\n",
    "***\n",
    "\n",
    "#### 1.2 Input Files\n",
    "In the example above, the creation of the `planetx` object required two files: `'Planet-X_settings.json'` and `'Planet-X_info.json'`.\n",
    "\n",
    "##### The Settings File\n",
    "This file is needed to define the directories containing the data (ie. `'Planet-Xb_mid-times.txt'`) via the\n",
    "`\"data_dir\"` and `\"data_sub\"` keys. It also includes important parameters for the nested sampling algorithms such as the\n",
    "desired sampler (`\"nestle\"` or `\"multinest\"`), the prior (descried further below), the number of live points, and the\n",
    "evidence tolerance. See the other documentation for an explanation of these things.\n",
    "\n",
    "<details><summary>example:</summary>\n",
    "\n",
    "```\n",
    "{\"main_save_dir\": \"Planet-X/Results/\",\n",
    "\n",
    "      \"RV_fit\": {\"sampler\":\"nestle\",\n",
    "                 \"data_dir\": \"Planet-X/Data/\",\n",
    "                 \"data_sub\": \"_rvs.txt\",\n",
    "                 \"n_live_points\": 1000,\n",
    "                 \"evidence_tolerance\": 0.001},\n",
    "\n",
    "      \"TTV_fit\":{\"sampler\":\"nestle\",\n",
    "                  \"data_dir\": \"Planet-X/Data/\",\n",
    "                  \"data_sub\": \"_mid_times.txt\",\n",
    "                  \"n_live_points\": 1000,\n",
    "                  \"evidence_tolerance\": 0.001},\n",
    "...\n",
    "```\n",
    "\n",
    "</details>\n",
    "\n",
    "##### The System Information File\n",
    "This file contains the physical characteristics of the star-planet system, including.\n",
    "- System Parameters: right ascension `\"RA\"` declination `\"DEC\"`, distance `\"D\"`, radial velocity `\"v_r\"`,\n",
    "and proper motion `\"mu\"`\n",
    "- Star Parameters: mass `\"M_s\"`, radius `\"R_s\"`, and rotation period `\"P_rot_s\"`;\n",
    "- Planet Parameters: mass `\"M_p\"`, radius `\"R_p\"`, orbital period `\"P\"`, eccentricity `\"e\"`,\n",
    "inclination `\"i\"`, argument of periapse `\"w0\"`, and RV semi-amplitude `\"K\"` (In the case of multi-planet systems,\n",
    "the planet number can be specified as the parameters are held in lists).\n",
    "\n",
    "<details><summary>example:</summary>\n",
    "\n",
    "```\n",
    "{ \"_comment1\": \"System Parameters\",\n",
    "    \"Star\":\"Planet-X\",\n",
    "    \"RA\":\"20h04m00.00s\",\n",
    "    \"DEC\":\"+28d09m19.95s\",\n",
    "    \"distance\": 160.0,\n",
    "    \"v_r\": -15.0,\n",
    "    \"mu_tot\": 40.0,\n",
    "\n",
    "   \"_comment2\": \"Star Characteristics\",\n",
    "    \"M_s\": 0.90,\n",
    "    \"R_s\": 0.95,\n",
    "    \"P_rot\": 25,\n",
    "\n",
    "   \"_comment3\": \"Planet Characteristics\",\n",
    "    \"Planet(s)\": [\"b\"],\n",
    "    \"M_p\": [300.0],\n",
    "    \"R_p\": [11.0],\n",
    "    \"t0\": [2456282.493],\n",
    "    \"P\": [0.94001],\n",
    "    \"e\": [0.0],\n",
    "    \"omega\": [0.0],\n",
    "    \"i\": [90],\n",
    "    \"K\": [253]}\n",
    "```\n",
    "\n",
    "</details>\n",
    "\n",
    "These characteristics are recorded as class attributes, allowing the user to update them easily:"
   ],
   "metadata": {
    "collapsed": false,
    "pycharm": {
     "name": "#%% md\n"
    }
   }
  },
  {
   "cell_type": "code",
   "execution_count": null,
   "outputs": [],
   "source": [],
   "metadata": {
    "collapsed": false,
    "pycharm": {
     "name": "#%%\n"
    }
   }
  },
  {
   "cell_type": "markdown",
   "source": [
    "***\n",
    "\n",
    "#### 1.3 The Parameters\n",
    "The user enters the free parameters in a model fit as a list of strings that represent different parameters in the\n",
    "transit timing and/or radial velocity models. There are currently 12 parameters available in the model fitting,\n",
    "though they may not appear in every model. They fall into three general categories:\n",
    "\n",
    "###### Orbital Parameters\n",
    "- `'t0'`: reference transit time [BJD_TDB]\n",
    "- `'P'`: orbital period in days\n",
    "- `'e'`: eccentricity\n",
    "- `'i'`: inclination\n",
    "- `'w0'`: argument of periapse (A.O.P) in radians (planet or star, depending on model)\n",
    "\n",
    "###### Time Dependent Parameters\n",
    "- `'dPdE'`: a constant change of the orbital period in days per orbit\n",
    "- `'dwdE'`: a constant change of the (A.O.P) (precession) in radians per orbit\n",
    "\n",
    "###### Radial Velocity Parameters\n",
    "- `'K'`: radial velocity semi-amplitude in m/s\n",
    "- `'v0'`: RV zero velocity in m/s (instrument specific)\n",
    "- `'jit'`: RV jitter in m/s (instrument specific)\n",
    "- `'dvdt'`: a linear RV acceleration in m/s/day\n",
    "- `'ddvdt'`: a quadratic RV acceleration in m/s^2/day\n",
    "***\n",
    "\n",
    "#### 1.4 The Prior\n",
    "The `\"prior\"` is defined in the settings file and is structured as a dictionary with keys for each parameter.\n",
    "\n",
    "<details><summary>example:</summary>\n",
    "\n",
    "```\n",
    "...\n",
    "  \"prior\": {\"t0\":[2456282.5, 0.01],\n",
    "            \"P\":[0.94, 0.0001],\n",
    "            \"e\":[-8,-1],\n",
    "            \"i\":[90,5],\n",
    "            \"w0\":[0,6.28318530718],\n",
    "            \"dPdE\":[-1e-7, 1e-7],\n",
    "            \"dwdE\":[0, 0.001],\n",
    "            \"K\":[225, 275],\n",
    "            \"v0\":[-10, 10],\n",
    "            \"jit\":[-2,2],\n",
    "            \"dvdt\":[-1, 1],\n",
    "            \"ddvdt\":[-1, 1]}\n",
    "```\n",
    "</details>\n",
    "\n",
    "Each key is a tuple specifying the prior 'bounds' (the meaning of which depend on the type of prior) for transforming\n",
    "a parameter from the unit hypercube to a normal scale.:\n",
    "- Gaussian : (mean, std)\n",
    "- Uniform : (min, max)\n",
    "- Log-Uniform: (log10(min), log10(max))\n",
    "\n",
    "Helpful link for explaining the prior\n",
    "***\n",
    "\n",
    "### 2. Advanced Model Fitting\n",
    "\n",
    "##### 2.1 Radial Velocities\n",
    "Like the transit mid-times, we can run model fits on the radial velocity data (`'Planet-Xb_rvs.txt''`). Let's again\n",
    "choose a circular orbit with a constant orbital period for our model fit and this time generate a plot to visualize\n",
    "the results, saved as the file `'*_rv_plot.png'`."
   ],
   "metadata": {
    "collapsed": false,
    "pycharm": {
     "name": "#%% md\n"
    }
   }
  },
  {
   "cell_type": "code",
   "execution_count": null,
   "outputs": [],
   "source": [
    "rv_fit = planetx.run_rv_fit(['t0', 'P', 'K', 'v0'])\n",
    "planetx.make_rv_plots(show_RV_curve=False)"
   ],
   "metadata": {
    "collapsed": false,
    "pycharm": {
     "name": "#%%\n"
    }
   }
  },
  {
   "cell_type": "markdown",
   "source": [
    "![RV plot](Planet-X/Results/Planet-X/RV_FITS/solo_rv_plot.png)\n",
    "***\n",
    "\n",
    "##### 2.2 More TTV Models\n",
    "We can do more than just a circular orbit. In addition to the `run_constant_period()` method are `run_orbit_decay()`\n",
    "and `run_apsidal precession()`, which fit the orbital decay and apsidal precesesion timing models, respectively.\n",
    "These models are described in more detail in the `Models` docstrings. Let's fit the transit timing data to an orbital\n",
    "decay model, in which the orbital period will shrink at a constant rate."
   ],
   "metadata": {
    "collapsed": false,
    "pycharm": {
     "name": "#%% md\n"
    }
   }
  },
  {
   "cell_type": "code",
   "execution_count": null,
   "outputs": [],
   "source": [
    "decay_fit = planetx.run_orbital_decay(['t0', 'P', 'dPdE'])"
   ],
   "metadata": {
    "collapsed": false,
    "pycharm": {
     "name": "#%%\n"
    }
   }
  },
  {
   "cell_type": "markdown",
   "source": [
    "Examining the `'ttv_decay_summary.txt'` file, we see that the Bayesian evidence for the orbital decay model is\n",
    "`logZ = -60.03 ± 0.14`, whereas the evidence for the constant orbital period was `logZ = -189.52 ± 0.11`, meaning\n",
    "that orbital decay describes the data far better. We can quantify this by calculating the Baye's factor:"
   ],
   "metadata": {
    "collapsed": false,
    "pycharm": {
     "name": "#%% md\n"
    }
   }
  },
  {
   "cell_type": "code",
   "execution_count": null,
   "outputs": [],
   "source": [
    "from ..orbdot.tools.stats import bayes_factor\n",
    "\n",
    "bayes_factor(decay_fit['stats']['logZ'], constant_fit['stats']['logZ'],\n",
    "                                                                model_1='Orbital Decay', model_2='Constant Period')"
   ],
   "metadata": {
    "collapsed": false,
    "pycharm": {
     "name": "#%%\n"
    }
   }
  },
  {
   "cell_type": "markdown",
   "source": [
    " > Decisive evidence for Orbital Decay vs. Constant Period  (B = 1.7e+56)\n",
    "\n",
    "Since we have the constant-period solution from earlier, we also visually confirm this result by generating an observed\n",
    "minus calculated (O-C) plot, which is saved as `'*_O-C_plot.png'`."
   ],
   "metadata": {
    "collapsed": false,
    "pycharm": {
     "name": "#%% md\n"
    }
   }
  },
  {
   "cell_type": "code",
   "execution_count": null,
   "outputs": [],
   "source": [
    "planetx.make_OC_plot(ylims=(-10,10))"
   ],
   "metadata": {
    "collapsed": false,
    "pycharm": {
     "name": "#%%\n"
    }
   }
  },
  {
   "cell_type": "markdown",
   "source": [
    "![O-C plot](Planet-X/Results/Planet-X/TTV_FITS/ttv_O-C_plot.png)\n",
    "\n",
    "##### 2.3 Joint Model Fits\n",
    "We can take this a step further by fitting the radial velocity and transit timing data simultaneously with\n",
    "the `run_rv_joint_fit` method, the timing model being one of the constant-period, orbital decay, or apsidal precession\n",
    "models defined in the `Models` class. Let's run two joint RV-timing fits: once with the constant-period model and\n",
    "once with the orbital decay model. For fun, we will add some Planet-X b eclipse mid-times 'from the literature.' The\n",
    "results can be seen here(link)."
   ],
   "metadata": {
    "collapsed": false,
    "pycharm": {
     "name": "#%% md\n"
    }
   }
  },
  {
   "cell_type": "code",
   "execution_count": null,
   "outputs": [],
   "source": [
    "# run a joint fit of the RV and constant-period models\n",
    "joint_constant_fit = planetx.run_rv_joint_fit(['t0', 'P', 'K', 'v0', 'jit'],timing_model='constant')\n",
    "planetx.make_rv_plots(show_RV_curve=False, joint_fit=True, timing_model='constant')\n",
    "\n",
    "# run a joint fit of the RV and orital decay models\n",
    "joint_decay_fit = planetx.run_rv_joint_fit(['t0', 'P', 'dPdE', 'K', 'v0', 'jit'],timing_model='decay')\n",
    "planetx.make_rv_plots(show_RV_curve=False, joint_fit=True, timing_model='decay')\n",
    "\n",
    "# make an O-C plot\n",
    "planetx.make_OC_plot(decay=True, joint_fit=True, ylims=(-10,10))\n",
    "\n",
    "# calculate the Baye's factor\n",
    "utl.bayes_factor(joint_decay_fit['stats']['logZ'], joint_constant_fit['stats']['logZ'],\n",
    "                        model_1='Orital Decay', model_2='Constant Period')"
   ],
   "metadata": {
    "collapsed": false,
    "pycharm": {
     "name": "#%%\n"
    }
   }
  },
  {
   "cell_type": "markdown",
   "source": [
    "Developed by [Simone Hagey](mailto:shagey@phas.ubc.ca)\n",
    "\n",
    "## References\n",
    "- [Nestle](http://kbarbary.github.io/nestle) by Kyle Barbary.\n",
    "- [PyMultiNest](http://johannesbuchner.github.io/PyMultiNest/) by Johannes Buchner."
   ],
   "metadata": {
    "collapsed": false,
    "pycharm": {
     "name": "#%% md\n"
    }
   }
  },
  {
   "cell_type": "markdown",
   "source": [],
   "metadata": {
    "collapsed": false
   }
  },
  {
   "cell_type": "code",
   "execution_count": null,
   "outputs": [],
   "source": [],
   "metadata": {
    "collapsed": false,
    "pycharm": {
     "name": "#%%\n"
    }
   }
  }
 ],
 "metadata": {
  "kernelspec": {
   "display_name": "Python 3",
   "language": "python",
   "name": "python3"
  },
  "language_info": {
   "codemirror_mode": {
    "name": "ipython",
    "version": 2
   },
   "file_extension": ".py",
   "mimetype": "text/x-python",
   "name": "python",
   "nbconvert_exporter": "python",
   "pygments_lexer": "ipython2",
   "version": "2.7.6"
  },
  "pycharm": {
   "stem_cell": {
    "cell_type": "raw",
    "source": [
     "\n"
    ],
    "metadata": {
     "collapsed": false
    }
   }
  }
 },
 "nbformat": 4,
 "nbformat_minor": 0
}